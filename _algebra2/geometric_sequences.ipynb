{
  "nbformat": 4,
  "nbformat_minor": 0,
  "metadata": {
    "colab": {
      "name": "geometric sequences.ipynb",
      "version": "0.3.2",
      "provenance": [],
      "collapsed_sections": []
    },
    "kernelspec": {
      "name": "python3",
      "display_name": "Python 3"
    }
  },
  "cells": [
    {
      "metadata": {
        "id": "n-SnRorTNzyl",
        "colab_type": "text"
      },
      "cell_type": "markdown",
      "source": [
        "## reference: \n",
        "[Khan_academy: Geometric sequences](https://www.khanacademy.org/math/algebra2/sequences-and-series/modal/v/geometric-sequences-introduction)\n",
        "\n"
      ]
    },
    {
      "metadata": {
        "id": "mUUjemtxOKK8",
        "colab_type": "text"
      },
      "cell_type": "markdown",
      "source": [
        "## Sequence\n",
        "$$\n",
        "\\begin{align}\n",
        "& a_1  =2 \\\\\n",
        "& r =3 <- common ratio \\\\\n",
        "& \\left\\{ 2,6,18,... \\right\\} \\\\\n",
        "\\\\\n",
        "& a_1 = 90 \\ and \\ r= \\frac{-1}{3} \\\\\n",
        "& \\left\\{ 90, -30, 10, -10/3,.. \\right\\} \\\\\n",
        "\\end{align}\n",
        "$$\n",
        "\n",
        "## The different between sequence and series\n",
        "\n",
        "### Sequence\n",
        "$$\n",
        "\\left\\{ 90, -30, 10, -10/3,.. \\right\\} \\\\\n",
        "$$\n",
        "\n",
        "### Series\n",
        "$$\n",
        "90+  -30+ 10+ -\\frac{10}{3}\n",
        "$$\n",
        "\n",
        "## Explicit formulas for geometric sequences\n",
        "\n",
        "### Example\n",
        "\n",
        "1.\n",
        "\n",
        "**geometric sequence**\n",
        "\n",
        "$$\n",
        "-8,-40,-200,-1000...\n",
        "$$\n",
        "\n",
        "**explicit formula**\n",
        "$$\n",
        "c(n) = 5^{n-1}*-8\n",
        "$$\n",
        "\n",
        "2.\n",
        "\n",
        "**geometric sequence**\n",
        "\n",
        "$$\n",
        "-1,-7,-49,-343...\n",
        "$$\n",
        "\n",
        "**explicit formula**\n",
        "$$\n",
        "d(n) = 7^{n-1}*-1 \\\\\n",
        "d(n) = -1*7^n* \\frac{1}{7} \\\\\n",
        "$$\n",
        "\n",
        "## Converting recursive & explicit forms of geometric sequences\n",
        "\n",
        "$$\n",
        "\\begin{align*}\n",
        "g(x) &= 9*8^{n-1} \\text{  if x is a positive interger } \\\\\n",
        "\\text{Recursive forms} \\\\\n",
        "g(x) &=\n",
        "\\begin{cases}\n",
        "9 &\\text{ if x=1} \\\\\n",
        "g(x-1)*8 &\\text{ if x is integer > 1}\n",
        "\\end{cases}\n",
        "\\end{align*}\n",
        "$$"
      ]
    }
  ]
}