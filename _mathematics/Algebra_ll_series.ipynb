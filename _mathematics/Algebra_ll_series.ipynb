{
  "nbformat": 4,
  "nbformat_minor": 0,
  "metadata": {
    "colab": {
      "name": "Algebra ll series.ipynb",
      "version": "0.3.2",
      "provenance": [],
      "collapsed_sections": []
    }
  },
  "cells": [
    {
      "metadata": {
        "id": "_mL-QsQZM8ks",
        "colab_type": "text"
      },
      "cell_type": "markdown",
      "source": [
        "**Algebra ll series**"
      ]
    },
    {
      "metadata": {
        "id": "qWja1lD3HsMp",
        "colab_type": "text"
      },
      "cell_type": "markdown",
      "source": [
        "## Summation notation \n",
        "\n",
        "**sigma notation**\n",
        "$$\n",
        "\\sum \n",
        "$$\n",
        "\n",
        "**example**\n",
        "\n",
        "$$\n",
        "\\sum_{i=1}^{10} i = 1+2+3+...+9+10 \n",
        "$$\n",
        "\n",
        "$$\n",
        "\\sum_{i=1}^{100} i = 1+2+3+...+99+100 \n",
        "$$\n",
        "\n",
        "$$\n",
        "\\sum_{i=0}^{50} \\pi i^2 =\\pi 0^2 + \\pi 1^2 + \\pi 2^2+... + \\pi 49^2+\\pi 50^2 \n",
        "$$\n"
      ]
    },
    {
      "metadata": {
        "id": "vqLlOr5BSxO4",
        "colab_type": "text"
      },
      "cell_type": "markdown",
      "source": [
        "##Arithmetic series\n",
        "[Khanacademy algebra_ll_series](https://www.khanacademy.org/math/algebra2/sequences-and-series/alg2-seq-and-series/a/evaluating-arithmetic-series-guided-practice)\n",
        "\n",
        "\\begin{align*}\n",
        "  \\left\\{1,2,3,....,n\\right\\} \\\\\n",
        "s_n &= 1+2+3+...+ n \\\\\n",
        "s_n &= n + (n-1) + (n-2) + ... + 1 \\\\\n",
        "s_n+s_n &= 2s_n = (n+1)+(n+1) + (n+1)+...+(n+1) \\\\\n",
        "s_n &=\\frac{n(n+1)}{2}\n",
        "\\end{align*}\n",
        "\n",
        "\n",
        "\\begin{align*}\n",
        "\\end{align*}\n",
        "\n",
        "**arithmetic sequence**\n",
        "$$\n",
        " \\left\\{a, a+d, a+2d, ..., a+(n-1)d \\right\\}\n",
        "$$\n",
        "\n",
        "**arithmetic series formula**\n",
        "\\begin{align*}\n",
        "s_n &= a+a+d + a+2d +.. +a+(n-1)d \\\\\n",
        "s_n &=a+n(-1)d+a+(n-2)d + a+(n-3)d+ ... +a  \\\\\n",
        "2s_n &= 2a+(n-1)d + 2a+(n-1)d + 2a+(n-1)d +...+ 2a+ (n-1)d \\\\\n",
        "2s_n &= n(2a + (n-1)d) \\\\\n",
        "s_n &= \\frac{n(2a+(n-1)d)}{2} \\\\\n",
        "s_n &= n* (\\frac{ a+a+(n-1)d }{2})\n",
        "\\end{align*}\n",
        "\n",
        "**  the sum of an arithmetic series**\n",
        "\\begin{align*}\n",
        "s_n= \\frac{(a_1+a_n)}{2}*n\n",
        "\\end{align*}\n"
      ]
    },
    {
      "metadata": {
        "id": "UrqEJ22InKtI",
        "colab_type": "text"
      },
      "cell_type": "markdown",
      "source": [
        "###Find the value of n for this series and Find the sum\n",
        "\n",
        "\\begin{align*}\n",
        "3+5+7+..+401= \\\\\n",
        "n &= \\frac{(401-3)}{2}+1 \\\\\n",
        "n &=200 \\\\\n",
        "\\frac{3+401}{2}*n &= 40400 \\\\\n",
        "\\\\\n",
        "11+20+29+...+4052= \\\\\n",
        "n &= \\frac{(4042-11)}{9}+1 \\\\\n",
        "n &=450 \\\\\n",
        "\\frac{4052+11}{9}*n &= 914175 \\\\\n",
        "\\end{align*}"
      ]
    },
    {
      "metadata": {
        "id": "HeYRYOj9vKjD",
        "colab_type": "text"
      },
      "cell_type": "markdown",
      "source": [
        "## Work Example\n",
        "\n",
        " ## base\n",
        "\\begin{align*}\n",
        "\\sum_{k=1}^{550}(2k+50) &= 2(1)+50+ 2(2)+50 + ... + 2(550)+50 \\\\\n",
        "\\\\\n",
        "s_{550} &= 52 + 54 + 56 + ...+ 1150 \\\\\n",
        "s_{550} &= 1150 + 1148+ 1146 +...+ 52 \\\\\n",
        "2s_{550} &= 1202 + 1202 +...+ 1202 = 1202 * 550 \\\\\n",
        "s_{550} &= \\frac{1202*550 }{2} \\\\\n",
        "s_{550} &= \\frac{52 + 1150}{2}*550\n",
        "\\end{align*}"
      ]
    },
    {
      "metadata": {
        "id": "SIQp7XFX1BYK",
        "colab_type": "text"
      },
      "cell_type": "markdown",
      "source": [
        " ## sum expression\n",
        "\n",
        "$$\n",
        "-50+(-44)+(-38)+...+ 2038+ 2044\n",
        "$$\n",
        "\n",
        "Find the value of n for this series\n",
        "\n",
        "\\begin{align*}\n",
        "n &= \\frac{2044-(-50)}{6}+1 \\\\\n",
        "n &= 350 \\\\\n",
        "s_{350} &= \\frac{-50+2044}{2}*350 \\\\\n",
        "s_{350} &= 348,950 \\\\\n",
        "Sum expression \\\\\n",
        "& \\sum_{k=1}^{350} (6(k-1)-50)\n",
        "\\end{align*}\n",
        "\n"
      ]
    },
    {
      "metadata": {
        "id": "ATSa2wS87pwo",
        "colab_type": "text"
      },
      "cell_type": "markdown",
      "source": [
        " ## Recursive formula\n",
        "\n",
        "\\begin{align*}\n",
        "a_i &= a_i-1 + 11 \\\\\n",
        "a_1 &= 4 \\\\\n",
        "\\end{align*}\n",
        "**Find sum of first 650 terms of sequence! **\n",
        "$$\n",
        "\\left\\{ 4 + 15 + 26 + ..+ (4+11(n-1))\\right\\} \\\\\n",
        "$$\n",
        "\n",
        "\\begin{align*}\n",
        "4+11(650-1) &=  7143 \\\\\n",
        "\\\\\n",
        "s_{650} &= \\frac{ 4+7143 }{2} * 650 = 2,322,775 \\\\\n",
        "\\end{align*}\n"
      ]
    },
    {
      "metadata": {
        "id": "rfCgh9QhQ9GX",
        "colab_type": "text"
      },
      "cell_type": "markdown",
      "source": [
        "##Proof of finite arithmetic series formula\n",
        "[Proof of finite arithmetic series formula](https://www.khanacademy.org/math/algebra2/sequences-and-series/alg2-seq-and-series/v/alternate-proof-to-induction-for-integer-sum)"
      ]
    }
  ]
}